{
 "cells": [
  {
   "cell_type": "code",
   "execution_count": 50,
   "metadata": {},
   "outputs": [],
   "source": [
    "from graphdriver.commons import data, setup\n",
    "import pandas as pd\n",
    "import torch\n",
    "from pathlib import Path"
   ]
  },
  {
   "cell_type": "code",
   "execution_count": 40,
   "metadata": {},
   "outputs": [],
   "source": [
    "def to_csv(c, cm):\n",
    "    path = f\"./{c}/\"\n",
    "    def ensure_dir():\n",
    "        Path(path).mkdir(parents=True, exist_ok=True)\n",
    "    ensure_dir()\n",
    "\n",
    "    pd.DataFrame(cm.gene_edge_attr.numpy()).to_csv(f\"{path}gene_edge_attr.csv\")\n",
    "    pd.DataFrame(cm.gene_edge_index.numpy()).to_csv(f\"{path}gene_edge_index.csv\")\n",
    "    pd.DataFrame(cm.ppi_edge_index.numpy()).to_csv(f\"{path}ppi_edge_index.csv\")\n",
    "    pd.DataFrame(cm.ppi_genes.numpy()).to_csv(f\"{path}ppi_genes.csv\")\n",
    "    pd.DataFrame(cm.x.numpy()).to_csv(f\"{path}x.csv\")\n",
    "    pd.DataFrame(cm.y.numpy()).to_csv(f\"{path}y.csv\")\n",
    "\n",
    "    pd.DataFrame(cm.symbol_index_dict, index=[0]).T.to_csv(f\"{path}symbol_index_dict.csv\")\n",
    "\n",
    "    drivers = cm.labels.drivers_cancer\n",
    "    others = cm.labels.drivers_others\n",
    "    candidates = cm.labels.candidates\n",
    "    passengers = cm.labels.passengers\n",
    "    pd.DataFrame(drivers).to_csv(f\"{path}labels_drivers_cancer.csv\")\n",
    "    pd.DataFrame(others).to_csv(f\"{path}labels_drivers_others.csv\")\n",
    "    pd.DataFrame(candidates).to_csv(f\"{path}labels_candidates.csv\")\n",
    "    pd.DataFrame(passengers).to_csv(f\"{path}labels_passengers.csv\")\n"
   ]
  },
  {
   "cell_type": "code",
   "execution_count": 42,
   "metadata": {},
   "outputs": [],
   "source": [
    "for c in setup.cancer_types():\n",
    "    cm = data.Dataset(c).get_data()\n",
    "    to_csv(c, cm)"
   ]
  },
  {
   "cell_type": "code",
   "execution_count": 88,
   "metadata": {},
   "outputs": [
    {
     "data": {
      "text/plain": [
       "True"
      ]
     },
     "execution_count": 88,
     "metadata": {},
     "output_type": "execute_result"
    }
   ],
   "source": [
    "c = 'blca'\n",
    "path = f\"./{c}/\"\n",
    "cm = data.Dataset(c).get_data()\n",
    "\n",
    "\n",
    "drivers = cm.labels.drivers_cancer\n",
    "driverss = torch.Tensor(pd.read_csv(f\"{path}labels_drivers_cancer.csv\", index_col=0)[\"0\"].to_numpy()).type(torch.long)\n",
    "torch.equal(drivers, driverss)\n",
    "\n",
    "others = cm.labels.drivers_others\n",
    "otherss = torch.Tensor(pd.read_csv(f\"{path}labels_drivers_others.csv\", index_col=0)[\"0\"].to_numpy()).type(torch.long)\n",
    "torch.equal(others, otherss)\n",
    "\n",
    "candidates = cm.labels.candidates\n",
    "candidatess = torch.Tensor(pd.read_csv(f\"{path}labels_candidates.csv\", index_col=0)[\"0\"].to_numpy()).type(torch.long)\n",
    "torch.equal(candidates, candidatess)\n",
    "\n",
    "passengers = cm.labels.passengers\n",
    "passengerss = torch.Tensor(pd.read_csv(f\"{path}labels_passengers.csv\", index_col=0)[\"0\"].to_numpy()).type(torch.long)\n",
    "torch.equal(passengers, passengerss)\n",
    "\n",
    "symbols = cm.symbol_index_dict\n",
    "symbolss = pd.read_csv(f\"{path}symbol_index_dict.csv\", index_col=0)[\"0\"].to_dict()\n",
    "symbols == symbolss\n",
    "\n",
    "gene_attr = cm.gene_edge_attr\n",
    "gene_attrs = torch.Tensor(pd.read_csv(f\"{path}gene_edge_attr.csv\", index_col=0).to_numpy()).type(torch.float)\n",
    "torch.equal(gene_attr, gene_attrs)\n",
    "\n",
    "gene_index = cm.gene_edge_index\n",
    "gene_indexs = torch.Tensor(pd.read_csv(f\"{path}gene_edge_index.csv\", index_col=0).to_numpy()).type(torch.long)\n",
    "torch.equal(gene_index, gene_indexs)\n",
    "\n",
    "ppi_index = cm.ppi_edge_index\n",
    "ppi_indexs = torch.Tensor(pd.read_csv(f\"{path}ppi_edge_index.csv\", index_col=0).to_numpy()).type(torch.long)\n",
    "torch.equal(ppi_index, ppi_indexs)\n",
    "\n",
    "ppi_genes = cm.gene_edge_attr\n",
    "ppi_geness = torch.Tensor(pd.read_csv(f\"{path}ppi_genes.csv\", index_col=0).to_numpy()).type(torch.float)\n",
    "torch.equal(ppi_genes, ppi_genes)\n",
    "\n",
    "x = cm.x\n",
    "xs = torch.Tensor(pd.read_csv(f\"{path}x.csv\", index_col=0).to_numpy()).type(torch.float)\n",
    "torch.equal(x, xs)\n",
    "\n",
    "y = cm.y\n",
    "ys = torch.Tensor(pd.read_csv(f\"{path}y.csv\", index_col=0).to_numpy()).type(torch.float).squeeze()\n",
    "torch.equal(y, ys)\n",
    "\n",
    "\n",
    "\n",
    "\n"
   ]
  },
  {
   "cell_type": "code",
   "execution_count": null,
   "metadata": {},
   "outputs": [],
   "source": []
  }
 ],
 "metadata": {
  "kernelspec": {
   "display_name": "Python 3.9.12 ('graph')",
   "language": "python",
   "name": "python3"
  },
  "language_info": {
   "codemirror_mode": {
    "name": "ipython",
    "version": 3
   },
   "file_extension": ".py",
   "mimetype": "text/x-python",
   "name": "python",
   "nbconvert_exporter": "python",
   "pygments_lexer": "ipython3",
   "version": "3.9.12"
  },
  "orig_nbformat": 4,
  "vscode": {
   "interpreter": {
    "hash": "7a9db27d091457fae2bf6a77a7eb2225e8e486f83039ed0b93e362575843034b"
   }
  }
 },
 "nbformat": 4,
 "nbformat_minor": 2
}
