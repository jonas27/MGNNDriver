{
 "cells": [
  {
   "cell_type": "code",
   "execution_count": 36,
   "metadata": {},
   "outputs": [],
   "source": [
    "from graphdriver.commons import data, results"
   ]
  },
  {
   "cell_type": "code",
   "execution_count": null,
   "metadata": {},
   "outputs": [],
   "source": []
  },
  {
   "cell_type": "code",
   "execution_count": 43,
   "metadata": {},
   "outputs": [],
   "source": [
    "brca_data = data.Dataset(\"brca\").get_data()"
   ]
  },
  {
   "cell_type": "code",
   "execution_count": 46,
   "metadata": {},
   "outputs": [
    {
     "data": {
      "text/plain": [
       "(0.2978724239338566, 0.20674102581227655)"
      ]
     },
     "execution_count": 46,
     "metadata": {},
     "output_type": "execute_result"
    }
   ],
   "source": [
    "brca_res = results.load_results(\"brca\", [\"genes\", \"ppi\"])\n",
    "brca_res.score_pr_auc()"
   ]
  },
  {
   "cell_type": "code",
   "execution_count": 51,
   "metadata": {},
   "outputs": [
    {
     "data": {
      "text/plain": [
       "tensor([0.0035, 0.3266])"
      ]
     },
     "execution_count": 51,
     "metadata": {},
     "output_type": "execute_result"
    }
   ],
   "source": [
    "brca_res.results[9].pred[torch.where(brca_res.y[brca_res.results[9].mask]==1)[0]]\n",
    "\n",
    "# for i in range(10):\n",
    "#     print(brca_res.score_single_pr_auc(i))"
   ]
  },
  {
   "cell_type": "code",
   "execution_count": 58,
   "metadata": {},
   "outputs": [
    {
     "data": {
      "text/plain": [
       "(0.4147393760435314, 0.26949710087413387)"
      ]
     },
     "execution_count": 58,
     "metadata": {},
     "output_type": "execute_result"
    }
   ],
   "source": [
    "brca_res = results.load_results(\"brca\", [\"genes\", \"ppi\"])\n",
    "brca_res.score_pr_auc()\n"
   ]
  },
  {
   "cell_type": "code",
   "execution_count": 53,
   "metadata": {},
   "outputs": [
    {
     "name": "stdout",
     "output_type": "stream",
     "text": [
      "0.3294456882652718\n",
      "0.08506762853564681\n",
      "0.3905701754385965\n",
      "0.9083333333333333\n",
      "0.3602800546448087\n"
     ]
    }
   ],
   "source": [
    "for i in range(5):\n",
    "    print(brca_res.score_single_pr_auc(i))"
   ]
  },
  {
   "cell_type": "code",
   "execution_count": 56,
   "metadata": {},
   "outputs": [
    {
     "data": {
      "text/plain": [
       "tensor([4.2495e-06, 2.7353e-05, 6.2495e-03, 5.8767e-04, 1.1877e-01, 1.3195e-05,\n",
       "        7.8390e-04, 2.1125e-04, 1.3087e-06, 1.9445e-05, 6.6794e-04, 2.8815e-03,\n",
       "        9.3251e-03, 3.7042e-03, 1.1957e-03, 8.1822e-02, 4.9092e-03, 1.9652e-03,\n",
       "        1.5708e-04, 1.5564e-06, 1.6784e-05, 5.0991e-06, 3.8389e-04, 4.2495e-06,\n",
       "        1.4334e-04, 1.4017e-05, 3.1508e-04, 4.4142e-05, 9.5690e-07, 1.5976e-05,\n",
       "        4.2342e-05, 2.1392e-05, 2.9515e-05, 3.6063e-03, 3.3992e-01, 2.9961e-05,\n",
       "        4.6546e-05, 1.2180e-05, 5.3183e-05, 8.4485e-05, 1.8320e-02, 2.9278e-03,\n",
       "        3.6554e-05, 5.0991e-06, 9.7955e-06, 5.0991e-06, 1.5086e-03, 9.3228e-03,\n",
       "        8.3218e-04, 3.0644e-05, 1.4017e-05, 1.0601e-04, 1.5166e-03, 1.0337e-03,\n",
       "        1.0375e-04, 1.3490e-01, 1.9186e-06, 9.8596e-04, 4.1224e-02, 1.1149e-03,\n",
       "        2.4017e-03, 7.3932e-04, 8.3138e-06, 2.0360e-02, 5.5470e-04, 2.7885e-04,\n",
       "        8.8417e-05, 4.3056e-03, 1.1391e-04, 1.4289e-05, 5.0991e-06, 6.2313e-05,\n",
       "        5.9595e-06, 1.3457e-05, 3.3150e-05, 3.8920e-06, 1.3141e-05, 1.5809e-07,\n",
       "        1.0163e-05, 9.6754e-02, 4.1466e-05, 4.0060e-05, 4.0460e-02, 9.5690e-07,\n",
       "        9.1311e-06, 5.9595e-06, 7.8864e-02, 7.3788e-03, 6.3067e-05, 2.4436e-02,\n",
       "        3.9123e-03, 5.0873e-01, 5.9345e-03, 5.3024e-02, 1.4502e-03, 3.8108e-05,\n",
       "        1.9989e-03, 8.4409e-02, 1.2372e-05, 2.1060e-04, 3.9791e-05, 1.0628e-04,\n",
       "        5.0868e-06, 1.0728e-05, 3.3675e-05, 7.9151e-04, 7.3627e-04, 3.7154e-04,\n",
       "        2.5408e-06, 8.2860e-05, 4.6077e-03, 3.1904e-05, 1.5054e-03, 9.7190e-06,\n",
       "        2.2861e-01, 1.6920e-03, 2.4932e-03, 5.5546e-04, 3.1159e-04, 1.4560e-01,\n",
       "        1.3141e-05, 9.5690e-07, 1.5937e-04, 6.4526e-03, 1.2069e-02, 1.5678e-02,\n",
       "        1.2154e-03, 1.3574e-03, 5.2416e-02, 1.2287e-04, 1.2096e-03, 1.3512e-02,\n",
       "        1.1368e-06, 2.4812e-04, 1.4597e-05, 6.5987e-05, 4.8500e-04, 2.3891e-03,\n",
       "        2.5421e-04, 5.0991e-06, 4.8705e-01, 9.1932e-05, 7.0941e-04, 3.9231e-05,\n",
       "        1.6167e-04, 1.2256e-03, 6.4560e-03, 9.2616e-05, 3.3770e-05, 2.4822e-03,\n",
       "        1.4699e-04, 8.7135e-02, 3.8476e-02, 6.0068e-05, 5.8924e-04, 2.6741e-03,\n",
       "        2.4599e-03, 3.3302e-05, 3.0066e-08, 8.2065e-03, 1.8634e-04, 3.0581e-03,\n",
       "        1.5980e-04, 5.5848e-05, 2.4869e-05, 3.4696e-03, 4.2898e-04, 1.0703e-04,\n",
       "        1.0285e-03, 8.1834e-05, 7.7194e-05, 2.8802e-07, 1.7443e-04, 4.7458e-03,\n",
       "        8.4822e-06, 7.7473e-06, 2.6677e-05, 1.3507e-05, 1.1807e-03, 1.2650e-03,\n",
       "        6.4953e-05, 5.4921e-03, 1.5331e-03, 3.1727e-02, 1.9433e-01, 1.6716e-04,\n",
       "        8.2407e-06, 1.5933e-03, 2.7296e-06, 5.4344e-06, 1.0612e-06, 3.8091e-05,\n",
       "        8.9371e-04, 1.3141e-05, 3.3706e-03, 6.0068e-05, 1.4637e-03, 3.0461e-02,\n",
       "        2.2852e-04, 1.5963e-06, 1.1929e-03, 3.0995e-04, 9.8806e-06, 2.3463e-04,\n",
       "        2.4036e-03, 4.9043e-03, 1.0124e-03, 9.3424e-07, 8.1856e-02, 7.9775e-03,\n",
       "        9.3896e-04, 2.4485e-04, 3.3367e-03, 1.2378e-04, 1.1272e-05, 1.3473e-05,\n",
       "        2.7255e-05, 2.9968e-04, 5.7466e-02, 4.5822e-06, 5.5832e-06, 3.6457e-04,\n",
       "        2.1445e-04, 5.0991e-06, 3.1067e-04, 1.5665e-05, 1.0591e-05, 1.5403e-04,\n",
       "        2.3624e-03, 5.4130e-03, 5.3186e-03, 2.2849e-05, 2.9545e-05, 3.1683e-05,\n",
       "        1.3508e-04, 6.1071e-06, 2.8360e-05, 2.3322e-08, 8.5340e-10, 2.9944e-06,\n",
       "        1.3096e-05, 3.8921e-06, 1.3176e-04])"
      ]
     },
     "execution_count": 56,
     "metadata": {},
     "output_type": "execute_result"
    }
   ],
   "source": [
    "brca_res.results[2].pred"
   ]
  },
  {
   "cell_type": "code",
   "execution_count": 62,
   "metadata": {},
   "outputs": [
    {
     "name": "stdout",
     "output_type": "stream",
     "text": [
      "(10,)\n",
      "[0]\n"
     ]
    },
    {
     "data": {
      "text/plain": [
       "0.55"
      ]
     },
     "execution_count": 62,
     "metadata": {},
     "output_type": "execute_result"
    }
   ],
   "source": [
    "import numpy as np\n",
    "from sklearn import metrics\n",
    "true = np.array([1,0,0,0,0,0,0,0,0,0])\n",
    "print(true.shape)\n",
    "pred = np.array([0,0,0,0,0,0,0,0,0,0])\n",
    "precision, recall, _thresholds = metrics.precision_recall_curve(true, pred)\n",
    "print(_thresholds)\n",
    "metrics.auc(recall, precision)"
   ]
  },
  {
   "cell_type": "code",
   "execution_count": null,
   "metadata": {},
   "outputs": [],
   "source": []
  }
 ],
 "metadata": {
  "interpreter": {
   "hash": "458b52bda1f55374e8cddcad25b247645a5ca19ec8b04f47264fb14016127ad6"
  },
  "kernelspec": {
   "display_name": "Python 3.9.7 ('graph1')",
   "language": "python",
   "name": "python3"
  },
  "language_info": {
   "codemirror_mode": {
    "name": "ipython",
    "version": 3
   },
   "file_extension": ".py",
   "mimetype": "text/x-python",
   "name": "python",
   "nbconvert_exporter": "python",
   "pygments_lexer": "ipython3",
   "version": "3.9.7"
  },
  "orig_nbformat": 4
 },
 "nbformat": 4,
 "nbformat_minor": 2
}
