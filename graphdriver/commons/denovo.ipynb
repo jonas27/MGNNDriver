{
 "cells": [
  {
   "cell_type": "code",
   "execution_count": 193,
   "metadata": {},
   "outputs": [],
   "source": [
    "import torch\n",
    "import pandas as pd\n",
    "import requests\n",
    "from graphdriver.commons import data, results, setup\n",
    "from graphdriver.utils import paths, cons"
   ]
  },
  {
   "cell_type": "code",
   "execution_count": 194,
   "metadata": {},
   "outputs": [],
   "source": [
    "nt = [\"genes\",\"ppi\"]"
   ]
  },
  {
   "cell_type": "code",
   "execution_count": 244,
   "metadata": {},
   "outputs": [],
   "source": [
    "all_predicted_drivers = []\n",
    "for c in setup.cancer_types():\n",
    "    res = results.load_results(c, nt)\n",
    "    ds = data.Dataset(c)\n",
    "    d = ds.get_data()\n",
    "    \n",
    "    candidates_mask = torch.where(res.y == -1)[0]\n",
    "    pred_all = torch.zeros(res.results[0].pred.shape)\n",
    "    for r in res.results:\n",
    "        pred_all += r.pred\n",
    "    pred_all = pred_all/len(res.results)\n",
    "\n",
    "    symbols = list(d.symbol_index_dict.keys())\n",
    "    df = pd.DataFrame(pred_all, columns=[\"predictions\"])\n",
    "    df.index = symbols\n",
    "    df = df.iloc[candidates_mask]\n",
    "    df = df.sort_values(by=['predictions'], ascending=False).round(3)\n",
    "    genes_cancer_drivers = df.iloc[:3].index.to_list()\n",
    "    all_predicted_drivers.append(genes_cancer_drivers)\n"
   ]
  },
  {
   "cell_type": "code",
   "execution_count": 1,
   "metadata": {},
   "outputs": [],
   "source": [
    "df = pd.DataFrame(all_predicted_drivers)\n",
    "cancers = [c.upper() for c in setup.cancer_types()]\n",
    "df.index = cancers"
   ]
  },
  {
   "cell_type": "code",
   "execution_count": 229,
   "metadata": {},
   "outputs": [
    {
     "data": {
      "text/plain": [
       "37"
      ]
     },
     "execution_count": 229,
     "metadata": {},
     "output_type": "execute_result"
    }
   ],
   "source": [
    "# print how many genes are unique\n",
    "print(len(set(df.to_numpy().reshape(-1).tolist())))"
   ]
  },
  {
   "cell_type": "code",
   "execution_count": 2,
   "metadata": {},
   "outputs": [],
   "source": [
    "df.to_latex(\"denovo.tex\", escape=False)"
   ]
  }
 ],
 "metadata": {
  "kernelspec": {
   "display_name": "Python 3.8.10 64-bit",
   "language": "python",
   "name": "python3"
  },
  "language_info": {
   "codemirror_mode": {
    "name": "ipython",
    "version": 3
   },
   "file_extension": ".py",
   "mimetype": "text/x-python",
   "name": "python",
   "nbconvert_exporter": "python",
   "pygments_lexer": "ipython3",
   "version": "3.8.10"
  },
  "orig_nbformat": 4,
  "vscode": {
   "interpreter": {
    "hash": "916dbcbb3f70747c44a77c7bcd40155683ae19c65e1c03b4aa3499c5328201f1"
   }
  }
 },
 "nbformat": 4,
 "nbformat_minor": 2
}
