{
 "cells": [
  {
   "cell_type": "code",
   "execution_count": 2,
   "metadata": {},
   "outputs": [
    {
     "name": "stderr",
     "output_type": "stream",
     "text": [
      "/home/joe/miniconda3/envs/graph/lib/python3.9/site-packages/tqdm/auto.py:22: TqdmWarning: IProgress not found. Please update jupyter and ipywidgets. See https://ipywidgets.readthedocs.io/en/stable/user_install.html\n",
      "  from .autonotebook import tqdm as notebook_tqdm\n"
     ]
    }
   ],
   "source": [
    "import pandas as pd\n",
    "from graphdriver.commons import data, setup\n",
    "from graphdriver.load import labels\n"
   ]
  },
  {
   "cell_type": "code",
   "execution_count": 5,
   "metadata": {},
   "outputs": [],
   "source": [
    "others = []\n",
    "for c in [\"kirp\"]:\n",
    "    df, _ = labels._load_cosmic(c)\n",
    "    df_b, _ = labels._load_bailey(c)\n",
    "    num_drivers = len(set(df.index.to_list() + df_b.index.to_list()))\n",
    "    others.append((c.upper(),num_drivers, \"--\",\"--\", \"No\"))\n",
    "\n",
    "\n",
    "all_cancers = setup.cancer_types() \n",
    "all_cancers.sort()\n",
    "cancers = []\n",
    "for c in all_cancers:\n",
    "    d = data.Dataset(c).get_data()\n",
    "    num_drivers = d.labels.drivers_cancer.shape[0]\n",
    "    num_candidates = d.labels.drivers_others.shape[0] + d.labels.candidates.shape[0]\n",
    "    num_passengers = d.labels.passengers.shape[0]\n",
    "    cancers.append((c.upper(),num_drivers, num_candidates, num_passengers, \"Yes\"))\n",
    "\n",
    "\n",
    "# cancers.extend(others)"
   ]
  },
  {
   "cell_type": "code",
   "execution_count": 6,
   "metadata": {},
   "outputs": [
    {
     "data": {
      "text/html": [
       "<div>\n",
       "<style scoped>\n",
       "    .dataframe tbody tr th:only-of-type {\n",
       "        vertical-align: middle;\n",
       "    }\n",
       "\n",
       "    .dataframe tbody tr th {\n",
       "        vertical-align: top;\n",
       "    }\n",
       "\n",
       "    .dataframe thead th {\n",
       "        text-align: right;\n",
       "    }\n",
       "</style>\n",
       "<table border=\"1\" class=\"dataframe\">\n",
       "  <thead>\n",
       "    <tr style=\"text-align: right;\">\n",
       "      <th></th>\n",
       "      <th>num_drivers</th>\n",
       "      <th>num_candidates</th>\n",
       "      <th>num_passengers</th>\n",
       "      <th>included</th>\n",
       "    </tr>\n",
       "    <tr>\n",
       "      <th>symbol</th>\n",
       "      <th></th>\n",
       "      <th></th>\n",
       "      <th></th>\n",
       "      <th></th>\n",
       "    </tr>\n",
       "  </thead>\n",
       "  <tbody>\n",
       "    <tr>\n",
       "      <th>BLCA</th>\n",
       "      <td>51</td>\n",
       "      <td>10902</td>\n",
       "      <td>2303</td>\n",
       "      <td>Yes</td>\n",
       "    </tr>\n",
       "    <tr>\n",
       "      <th>BRCA</th>\n",
       "      <td>45</td>\n",
       "      <td>10867</td>\n",
       "      <td>2390</td>\n",
       "      <td>Yes</td>\n",
       "    </tr>\n",
       "    <tr>\n",
       "      <th>CESC</th>\n",
       "      <td>26</td>\n",
       "      <td>10711</td>\n",
       "      <td>2340</td>\n",
       "      <td>Yes</td>\n",
       "    </tr>\n",
       "    <tr>\n",
       "      <th>COAD</th>\n",
       "      <td>51</td>\n",
       "      <td>11043</td>\n",
       "      <td>2450</td>\n",
       "      <td>Yes</td>\n",
       "    </tr>\n",
       "    <tr>\n",
       "      <th>ESCA</th>\n",
       "      <td>17</td>\n",
       "      <td>8759</td>\n",
       "      <td>1825</td>\n",
       "      <td>Yes</td>\n",
       "    </tr>\n",
       "    <tr>\n",
       "      <th>HNSC</th>\n",
       "      <td>49</td>\n",
       "      <td>10419</td>\n",
       "      <td>2160</td>\n",
       "      <td>Yes</td>\n",
       "    </tr>\n",
       "    <tr>\n",
       "      <th>LIHC</th>\n",
       "      <td>30</td>\n",
       "      <td>8973</td>\n",
       "      <td>1848</td>\n",
       "      <td>Yes</td>\n",
       "    </tr>\n",
       "    <tr>\n",
       "      <th>LUAD</th>\n",
       "      <td>26</td>\n",
       "      <td>11144</td>\n",
       "      <td>2370</td>\n",
       "      <td>Yes</td>\n",
       "    </tr>\n",
       "    <tr>\n",
       "      <th>LUSC</th>\n",
       "      <td>30</td>\n",
       "      <td>11136</td>\n",
       "      <td>2379</td>\n",
       "      <td>Yes</td>\n",
       "    </tr>\n",
       "    <tr>\n",
       "      <th>PRAD</th>\n",
       "      <td>33</td>\n",
       "      <td>7466</td>\n",
       "      <td>1393</td>\n",
       "      <td>Yes</td>\n",
       "    </tr>\n",
       "    <tr>\n",
       "      <th>STAD</th>\n",
       "      <td>24</td>\n",
       "      <td>11231</td>\n",
       "      <td>2397</td>\n",
       "      <td>Yes</td>\n",
       "    </tr>\n",
       "    <tr>\n",
       "      <th>THCA</th>\n",
       "      <td>22</td>\n",
       "      <td>3986</td>\n",
       "      <td>787</td>\n",
       "      <td>Yes</td>\n",
       "    </tr>\n",
       "    <tr>\n",
       "      <th>UCEC</th>\n",
       "      <td>57</td>\n",
       "      <td>11538</td>\n",
       "      <td>2646</td>\n",
       "      <td>Yes</td>\n",
       "    </tr>\n",
       "  </tbody>\n",
       "</table>\n",
       "</div>"
      ],
      "text/plain": [
       "        num_drivers  num_candidates  num_passengers included\n",
       "symbol                                                      \n",
       "BLCA             51           10902            2303      Yes\n",
       "BRCA             45           10867            2390      Yes\n",
       "CESC             26           10711            2340      Yes\n",
       "COAD             51           11043            2450      Yes\n",
       "ESCA             17            8759            1825      Yes\n",
       "HNSC             49           10419            2160      Yes\n",
       "LIHC             30            8973            1848      Yes\n",
       "LUAD             26           11144            2370      Yes\n",
       "LUSC             30           11136            2379      Yes\n",
       "PRAD             33            7466            1393      Yes\n",
       "STAD             24           11231            2397      Yes\n",
       "THCA             22            3986             787      Yes\n",
       "UCEC             57           11538            2646      Yes"
      ]
     },
     "execution_count": 6,
     "metadata": {},
     "output_type": "execute_result"
    }
   ],
   "source": [
    "\n",
    "df = pd.DataFrame(cancers, columns=[\"symbol\", \"num_drivers\", \"num_candidates\", \"num_passengers\", \"included\"])\n",
    "df = df.set_index(\"symbol\", drop=True)\n",
    "# df.to_latex(\"./drivers_per_cancer.tex\", escape=False)\n",
    "df"
   ]
  },
  {
   "cell_type": "code",
   "execution_count": 9,
   "metadata": {},
   "outputs": [
    {
     "name": "stderr",
     "output_type": "stream",
     "text": [
      "/tmp/ipykernel_14678/688097394.py:1: FutureWarning: Dropping of nuisance columns in DataFrame reductions (with 'numeric_only=None') is deprecated; in a future version this will raise TypeError.  Select only valid columns before calling the reduction.\n",
      "  df.mean()[2]/df.mean()[0]\n"
     ]
    },
    {
     "data": {
      "text/plain": [
       "59.19305856832972"
      ]
     },
     "execution_count": 9,
     "metadata": {},
     "output_type": "execute_result"
    }
   ],
   "source": [
    "df.mean()[2]/df.mean()[0]"
   ]
  },
  {
   "cell_type": "code",
   "execution_count": null,
   "metadata": {},
   "outputs": [],
   "source": []
  }
 ],
 "metadata": {
  "kernelspec": {
   "display_name": "Python 3.9.12 ('graph')",
   "language": "python",
   "name": "python3"
  },
  "language_info": {
   "codemirror_mode": {
    "name": "ipython",
    "version": 3
   },
   "file_extension": ".py",
   "mimetype": "text/x-python",
   "name": "python",
   "nbconvert_exporter": "python",
   "pygments_lexer": "ipython3",
   "version": "3.9.12"
  },
  "orig_nbformat": 4,
  "vscode": {
   "interpreter": {
    "hash": "7a9db27d091457fae2bf6a77a7eb2225e8e486f83039ed0b93e362575843034b"
   }
  }
 },
 "nbformat": 4,
 "nbformat_minor": 2
}
