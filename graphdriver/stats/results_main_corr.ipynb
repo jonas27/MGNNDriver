{
 "cells": [
  {
   "cell_type": "code",
   "execution_count": 1,
   "metadata": {},
   "outputs": [
    {
     "name": "stderr",
     "output_type": "stream",
     "text": [
      "/home/joe/miniconda3/envs/graph/lib/python3.9/site-packages/tqdm/auto.py:22: TqdmWarning: IProgress not found. Please update jupyter and ipywidgets. See https://ipywidgets.readthedocs.io/en/stable/user_install.html\n",
      "  from .autonotebook import tqdm as notebook_tqdm\n"
     ]
    }
   ],
   "source": [
    "from graphdriver.commons import results, setup\n",
    "from graphdriver.utils import paths\n",
    "import pandas as pd\n",
    "from collections import defaultdict"
   ]
  },
  {
   "cell_type": "code",
   "execution_count": 2,
   "metadata": {},
   "outputs": [],
   "source": [
    "dfs = []\n",
    "for nt in list(reversed(setup.network_types()))[1:]:\n",
    "    scores_dict = defaultdict()\n",
    "    for cancer in setup.cancer_types():\n",
    "        score, _ = results.load_results(cancer, nt).score_test_pr_auc()\n",
    "        if '_'.join(nt) == 'genes_ppi':\n",
    "            net_name = 'MGNNdriver'\n",
    "        elif '_'.join(nt) == 'genes':\n",
    "            net_name = 'a)'\n",
    "        elif '_'.join(nt) == 'ppi':\n",
    "            net_name = 'b)'\n",
    "        scores_dict[cancer] = {net_name: score}\n",
    "        df = pd.DataFrame(scores_dict).T\n",
    "        # df = ranking_standardize_df(df, '_'.join(nt))\n",
    "    dfs.append(df)\n",
    "\n",
    "df = pd.concat(dfs, axis=1)\n",
    "df['a) $+$ b)'] = df.iloc[:,1:].sum(axis=1)"
   ]
  },
  {
   "cell_type": "code",
   "execution_count": 3,
   "metadata": {},
   "outputs": [
    {
     "data": {
      "text/html": [
       "<div>\n",
       "<style scoped>\n",
       "    .dataframe tbody tr th:only-of-type {\n",
       "        vertical-align: middle;\n",
       "    }\n",
       "\n",
       "    .dataframe tbody tr th {\n",
       "        vertical-align: top;\n",
       "    }\n",
       "\n",
       "    .dataframe thead th {\n",
       "        text-align: right;\n",
       "    }\n",
       "</style>\n",
       "<table border=\"1\" class=\"dataframe\">\n",
       "  <thead>\n",
       "    <tr style=\"text-align: right;\">\n",
       "      <th></th>\n",
       "      <th>MGNNdriver</th>\n",
       "      <th>a)</th>\n",
       "      <th>b)</th>\n",
       "      <th>a) $+$ b)</th>\n",
       "    </tr>\n",
       "  </thead>\n",
       "  <tbody>\n",
       "    <tr>\n",
       "      <th>blca</th>\n",
       "      <td>0.603776</td>\n",
       "      <td>0.355003</td>\n",
       "      <td>0.510898</td>\n",
       "      <td>0.865901</td>\n",
       "    </tr>\n",
       "    <tr>\n",
       "      <th>brca</th>\n",
       "      <td>0.578261</td>\n",
       "      <td>0.167803</td>\n",
       "      <td>0.506182</td>\n",
       "      <td>0.673984</td>\n",
       "    </tr>\n",
       "    <tr>\n",
       "      <th>cesc</th>\n",
       "      <td>0.627023</td>\n",
       "      <td>0.321643</td>\n",
       "      <td>0.531812</td>\n",
       "      <td>0.853455</td>\n",
       "    </tr>\n",
       "    <tr>\n",
       "      <th>coad</th>\n",
       "      <td>0.495652</td>\n",
       "      <td>0.211272</td>\n",
       "      <td>0.407828</td>\n",
       "      <td>0.619100</td>\n",
       "    </tr>\n",
       "    <tr>\n",
       "      <th>esca</th>\n",
       "      <td>0.354783</td>\n",
       "      <td>0.121739</td>\n",
       "      <td>0.401326</td>\n",
       "      <td>0.523065</td>\n",
       "    </tr>\n",
       "    <tr>\n",
       "      <th>hnsc</th>\n",
       "      <td>0.496405</td>\n",
       "      <td>0.180479</td>\n",
       "      <td>0.441310</td>\n",
       "      <td>0.621789</td>\n",
       "    </tr>\n",
       "    <tr>\n",
       "      <th>lihc</th>\n",
       "      <td>0.578736</td>\n",
       "      <td>0.206219</td>\n",
       "      <td>0.568689</td>\n",
       "      <td>0.774909</td>\n",
       "    </tr>\n",
       "    <tr>\n",
       "      <th>luad</th>\n",
       "      <td>0.430117</td>\n",
       "      <td>0.294076</td>\n",
       "      <td>0.349638</td>\n",
       "      <td>0.643714</td>\n",
       "    </tr>\n",
       "    <tr>\n",
       "      <th>lusc</th>\n",
       "      <td>0.443113</td>\n",
       "      <td>0.131740</td>\n",
       "      <td>0.337902</td>\n",
       "      <td>0.469642</td>\n",
       "    </tr>\n",
       "    <tr>\n",
       "      <th>prad</th>\n",
       "      <td>0.348323</td>\n",
       "      <td>0.111462</td>\n",
       "      <td>0.375919</td>\n",
       "      <td>0.487382</td>\n",
       "    </tr>\n",
       "    <tr>\n",
       "      <th>stad</th>\n",
       "      <td>0.446272</td>\n",
       "      <td>0.191582</td>\n",
       "      <td>0.283481</td>\n",
       "      <td>0.475063</td>\n",
       "    </tr>\n",
       "    <tr>\n",
       "      <th>thca</th>\n",
       "      <td>0.418670</td>\n",
       "      <td>0.082925</td>\n",
       "      <td>0.355383</td>\n",
       "      <td>0.438308</td>\n",
       "    </tr>\n",
       "    <tr>\n",
       "      <th>ucec</th>\n",
       "      <td>0.596021</td>\n",
       "      <td>0.275948</td>\n",
       "      <td>0.526662</td>\n",
       "      <td>0.802609</td>\n",
       "    </tr>\n",
       "  </tbody>\n",
       "</table>\n",
       "</div>"
      ],
      "text/plain": [
       "      MGNNdriver        a)        b)  a) $+$ b)\n",
       "blca    0.603776  0.355003  0.510898   0.865901\n",
       "brca    0.578261  0.167803  0.506182   0.673984\n",
       "cesc    0.627023  0.321643  0.531812   0.853455\n",
       "coad    0.495652  0.211272  0.407828   0.619100\n",
       "esca    0.354783  0.121739  0.401326   0.523065\n",
       "hnsc    0.496405  0.180479  0.441310   0.621789\n",
       "lihc    0.578736  0.206219  0.568689   0.774909\n",
       "luad    0.430117  0.294076  0.349638   0.643714\n",
       "lusc    0.443113  0.131740  0.337902   0.469642\n",
       "prad    0.348323  0.111462  0.375919   0.487382\n",
       "stad    0.446272  0.191582  0.283481   0.475063\n",
       "thca    0.418670  0.082925  0.355383   0.438308\n",
       "ucec    0.596021  0.275948  0.526662   0.802609"
      ]
     },
     "execution_count": 3,
     "metadata": {},
     "output_type": "execute_result"
    }
   ],
   "source": [
    "path = 'results_main_corr.tex'\n",
    "# df.corr().round(3).to_latex(path, escape=False)\n",
    "df"
   ]
  },
  {
   "cell_type": "code",
   "execution_count": 4,
   "metadata": {},
   "outputs": [
    {
     "data": {
      "text/html": [
       "<div>\n",
       "<style scoped>\n",
       "    .dataframe tbody tr th:only-of-type {\n",
       "        vertical-align: middle;\n",
       "    }\n",
       "\n",
       "    .dataframe tbody tr th {\n",
       "        vertical-align: top;\n",
       "    }\n",
       "\n",
       "    .dataframe thead th {\n",
       "        text-align: right;\n",
       "    }\n",
       "</style>\n",
       "<table border=\"1\" class=\"dataframe\">\n",
       "  <thead>\n",
       "    <tr style=\"text-align: right;\">\n",
       "      <th></th>\n",
       "      <th>MGNNdriver</th>\n",
       "      <th>a)</th>\n",
       "      <th>b)</th>\n",
       "      <th>a) $+$ b)</th>\n",
       "    </tr>\n",
       "  </thead>\n",
       "  <tbody>\n",
       "    <tr>\n",
       "      <th>MGNNdriver</th>\n",
       "      <td>1.000</td>\n",
       "      <td>0.708</td>\n",
       "      <td>0.819</td>\n",
       "      <td>0.884</td>\n",
       "    </tr>\n",
       "    <tr>\n",
       "      <th>a)</th>\n",
       "      <td>0.708</td>\n",
       "      <td>1.000</td>\n",
       "      <td>0.497</td>\n",
       "      <td>0.857</td>\n",
       "    </tr>\n",
       "    <tr>\n",
       "      <th>b)</th>\n",
       "      <td>0.819</td>\n",
       "      <td>0.497</td>\n",
       "      <td>1.000</td>\n",
       "      <td>0.873</td>\n",
       "    </tr>\n",
       "    <tr>\n",
       "      <th>a) $+$ b)</th>\n",
       "      <td>0.884</td>\n",
       "      <td>0.857</td>\n",
       "      <td>0.873</td>\n",
       "      <td>1.000</td>\n",
       "    </tr>\n",
       "  </tbody>\n",
       "</table>\n",
       "</div>"
      ],
      "text/plain": [
       "            MGNNdriver     a)     b)  a) $+$ b)\n",
       "MGNNdriver       1.000  0.708  0.819      0.884\n",
       "a)               0.708  1.000  0.497      0.857\n",
       "b)               0.819  0.497  1.000      0.873\n",
       "a) $+$ b)        0.884  0.857  0.873      1.000"
      ]
     },
     "execution_count": 4,
     "metadata": {},
     "output_type": "execute_result"
    }
   ],
   "source": [
    "df.corr().round(3)"
   ]
  },
  {
   "cell_type": "code",
   "execution_count": 6,
   "metadata": {},
   "outputs": [
    {
     "data": {
      "text/plain": [
       "<matplotlib.image.AxesImage at 0x7f0f586aff70>"
      ]
     },
     "execution_count": 6,
     "metadata": {},
     "output_type": "execute_result"
    },
    {
     "data": {
      "image/png": "[encoded data removed]",
      "text/plain": [
       "<Figure size 345.6x345.6 with 1 Axes>"
      ]
     },
     "metadata": {
      "needs_background": "light"
     },
     "output_type": "display_data"
    }
   ],
   "source": [
    "import matplotlib.pyplot as plt\n",
    "plt.matshow(df.corr().round(3))\n"
   ]
  },
  {
   "cell_type": "code",
   "execution_count": 7,
   "metadata": {},
   "outputs": [
    {
     "data": {
      "image/png": "[encoded data removed]",
      "text/plain": [
       "<Figure size 504x288 with 2 Axes>"
      ]
     },
     "metadata": {
      "needs_background": "light"
     },
     "output_type": "display_data"
    }
   ],
   "source": [
    "import seaborn as sns\n",
    "import numpy as np\n",
    "plt.rc('font', size=16) \n",
    "\n",
    "corr  = df.corr()\n",
    "f, ax = plt.subplots(figsize=(7, 4))\n",
    "\n",
    "# Generate a custom diverging colormap\n",
    "cmap = sns.diverging_palette(120, 10, n=1000, as_cmap=True)\n",
    "\n",
    "mask = np.triu(np.ones_like(corr, dtype=bool))\n",
    "mask =np.invert(mask).T\n",
    "\n",
    "# Draw the heatmap with the mask and correct aspect ratio\n",
    "fig = sns.heatmap(corr, mask=mask, cmap=cmap, vmax=1, center=0.45,\n",
    "            square=False, linewidths=10, annot=True, annot_kws={'color':'black'})\n",
    "plt.tight_layout()\n",
    "plt.savefig(\"./results-main-corr.png\") \n",
    "plt.show()\n",
    "plt.close()\n"
   ]
  },
  {
   "cell_type": "code",
   "execution_count": 44,
   "metadata": {},
   "outputs": [
    {
     "data": {
      "text/html": [
       "<div>\n",
       "<style scoped>\n",
       "    .dataframe tbody tr th:only-of-type {\n",
       "        vertical-align: middle;\n",
       "    }\n",
       "\n",
       "    .dataframe tbody tr th {\n",
       "        vertical-align: top;\n",
       "    }\n",
       "\n",
       "    .dataframe thead th {\n",
       "        text-align: right;\n",
       "    }\n",
       "</style>\n",
       "<table border=\"1\" class=\"dataframe\">\n",
       "  <thead>\n",
       "    <tr style=\"text-align: right;\">\n",
       "      <th></th>\n",
       "      <th>MGNNdriver</th>\n",
       "      <th>a)</th>\n",
       "      <th>b)</th>\n",
       "      <th>a) $+$ b)</th>\n",
       "    </tr>\n",
       "  </thead>\n",
       "  <tbody>\n",
       "    <tr>\n",
       "      <th>MGNNdriver</th>\n",
       "      <td>1.000000</td>\n",
       "      <td>0.707849</td>\n",
       "      <td>0.819090</td>\n",
       "      <td>0.884020</td>\n",
       "    </tr>\n",
       "    <tr>\n",
       "      <th>a)</th>\n",
       "      <td>0.707849</td>\n",
       "      <td>1.000000</td>\n",
       "      <td>0.497458</td>\n",
       "      <td>0.856992</td>\n",
       "    </tr>\n",
       "    <tr>\n",
       "      <th>b)</th>\n",
       "      <td>0.819090</td>\n",
       "      <td>0.497458</td>\n",
       "      <td>1.000000</td>\n",
       "      <td>0.873360</td>\n",
       "    </tr>\n",
       "    <tr>\n",
       "      <th>a) $+$ b)</th>\n",
       "      <td>0.884020</td>\n",
       "      <td>0.856992</td>\n",
       "      <td>0.873360</td>\n",
       "      <td>1.000000</td>\n",
       "    </tr>\n",
       "  </tbody>\n",
       "</table>\n",
       "</div>"
      ],
      "text/plain": [
       "            MGNNdriver        a)        b)  a) $+$ b)\n",
       "MGNNdriver    1.000000  0.707849  0.819090   0.884020\n",
       "a)            0.707849  1.000000  0.497458   0.856992\n",
       "b)            0.819090  0.497458  1.000000   0.873360\n",
       "a) $+$ b)     0.884020  0.856992  0.873360   1.000000"
      ]
     },
     "execution_count": 44,
     "metadata": {},
     "output_type": "execute_result"
    }
   ],
   "source": []
  },
  {
   "cell_type": "code",
   "execution_count": 19,
   "metadata": {},
   "outputs": [
    {
     "data": {
      "text/html": [
       "<div>\n",
       "<style scoped>\n",
       "    .dataframe tbody tr th:only-of-type {\n",
       "        vertical-align: middle;\n",
       "    }\n",
       "\n",
       "    .dataframe tbody tr th {\n",
       "        vertical-align: top;\n",
       "    }\n",
       "\n",
       "    .dataframe thead th {\n",
       "        text-align: right;\n",
       "    }\n",
       "</style>\n",
       "<table border=\"1\" class=\"dataframe\">\n",
       "  <thead>\n",
       "    <tr style=\"text-align: right;\">\n",
       "      <th></th>\n",
       "      <th>MGNNdriver</th>\n",
       "      <th>a)</th>\n",
       "      <th>b)</th>\n",
       "      <th>a) $+$ b)</th>\n",
       "    </tr>\n",
       "  </thead>\n",
       "  <tbody>\n",
       "    <tr>\n",
       "      <th>MGNNdriver</th>\n",
       "      <td>1.000000</td>\n",
       "      <td>0.707849</td>\n",
       "      <td>0.819090</td>\n",
       "      <td>0.884020</td>\n",
       "    </tr>\n",
       "    <tr>\n",
       "      <th>a)</th>\n",
       "      <td>0.707849</td>\n",
       "      <td>1.000000</td>\n",
       "      <td>0.497458</td>\n",
       "      <td>0.856992</td>\n",
       "    </tr>\n",
       "    <tr>\n",
       "      <th>b)</th>\n",
       "      <td>0.819090</td>\n",
       "      <td>0.497458</td>\n",
       "      <td>1.000000</td>\n",
       "      <td>0.873360</td>\n",
       "    </tr>\n",
       "    <tr>\n",
       "      <th>a) $+$ b)</th>\n",
       "      <td>0.884020</td>\n",
       "      <td>0.856992</td>\n",
       "      <td>0.873360</td>\n",
       "      <td>1.000000</td>\n",
       "    </tr>\n",
       "  </tbody>\n",
       "</table>\n",
       "</div>"
      ],
      "text/plain": [
       "            MGNNdriver        a)        b)  a) $+$ b)\n",
       "MGNNdriver    1.000000  0.707849  0.819090   0.884020\n",
       "a)            0.707849  1.000000  0.497458   0.856992\n",
       "b)            0.819090  0.497458  1.000000   0.873360\n",
       "a) $+$ b)     0.884020  0.856992  0.873360   1.000000"
      ]
     },
     "execution_count": 19,
     "metadata": {},
     "output_type": "execute_result"
    }
   ],
   "source": [
    "corr"
   ]
  },
  {
   "cell_type": "code",
   "execution_count": null,
   "metadata": {},
   "outputs": [],
   "source": []
  }
 ],
 "metadata": {
  "kernelspec": {
   "display_name": "Python 3.9.12 ('graph')",
   "language": "python",
   "name": "python3"
  },
  "language_info": {
   "codemirror_mode": {
    "name": "ipython",
    "version": 3
   },
   "file_extension": ".py",
   "mimetype": "text/x-python",
   "name": "python",
   "nbconvert_exporter": "python",
   "pygments_lexer": "ipython3",
   "version": "3.9.12"
  },
  "orig_nbformat": 4,
  "vscode": {
   "interpreter": {
    "hash": "7a9db27d091457fae2bf6a77a7eb2225e8e486f83039ed0b93e362575843034b"
   }
  }
 },
 "nbformat": 4,
 "nbformat_minor": 2
}
