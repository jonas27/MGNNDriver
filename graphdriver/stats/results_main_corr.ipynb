{
 "cells": [
  {
   "cell_type": "code",
   "execution_count": 1,
   "metadata": {},
   "outputs": [
    {
     "name": "stderr",
     "output_type": "stream",
     "text": [
      "/home/joe/miniconda3/envs/graph/lib/python3.9/site-packages/tqdm/auto.py:22: TqdmWarning: IProgress not found. Please update jupyter and ipywidgets. See https://ipywidgets.readthedocs.io/en/stable/user_install.html\n",
      "  from .autonotebook import tqdm as notebook_tqdm\n"
     ]
    }
   ],
   "source": [
    "from graphdriver.commons import results, setup\n",
    "from graphdriver.utils import paths\n",
    "import pandas as pd\n",
    "from collections import defaultdict"
   ]
  },
  {
   "cell_type": "code",
   "execution_count": 4,
   "metadata": {},
   "outputs": [],
   "source": [
    "dfs = []\n",
    "for nt in list(reversed(setup.network_types()))[1:]:\n",
    "    scores_dict = defaultdict()\n",
    "    for cancer in setup.cancer_types():\n",
    "        score, _ = results.load_results(cancer, nt).score_test_pr_auc()\n",
    "        if '_'.join(nt) == 'genes_ppi':\n",
    "            net_name = 'MGNNdriver'\n",
    "        elif '_'.join(nt) == 'genes':\n",
    "            net_name = 'a)'\n",
    "        elif '_'.join(nt) == 'ppi':\n",
    "            net_name = 'b)'\n",
    "        scores_dict[cancer] = {net_name: score}\n",
    "        df = pd.DataFrame(scores_dict).T\n",
    "        # df = ranking_standardize_df(df, '_'.join(nt))\n",
    "    dfs.append(df)\n",
    "\n",
    "df = pd.concat(dfs, axis=1)\n",
    "df['a) $+$ b)'] = df.iloc[:,1:].sum(axis=1)"
   ]
  },
  {
   "cell_type": "code",
   "execution_count": 27,
   "metadata": {},
   "outputs": [
    {
     "name": "stderr",
     "output_type": "stream",
     "text": [
      "/tmp/ipykernel_18901/1024113734.py:2: FutureWarning: In future versions `DataFrame.to_latex` is expected to utilise the base implementation of `Styler.to_latex` for formatting and rendering. The arguments signature may therefore change. It is recommended instead to use `DataFrame.style.to_latex` which also contains additional functionality.\n",
      "  df.corr().round(3).to_latex(path, escape=False)\n"
     ]
    }
   ],
   "source": [
    "path = 'results_main_corr.tex'\n",
    "df.corr().round(3).to_latex(path, escape=False)"
   ]
  },
  {
   "cell_type": "code",
   "execution_count": 7,
   "metadata": {},
   "outputs": [
    {
     "data": {
      "text/html": [
       "<div>\n",
       "<style scoped>\n",
       "    .dataframe tbody tr th:only-of-type {\n",
       "        vertical-align: middle;\n",
       "    }\n",
       "\n",
       "    .dataframe tbody tr th {\n",
       "        vertical-align: top;\n",
       "    }\n",
       "\n",
       "    .dataframe thead th {\n",
       "        text-align: right;\n",
       "    }\n",
       "</style>\n",
       "<table border=\"1\" class=\"dataframe\">\n",
       "  <thead>\n",
       "    <tr style=\"text-align: right;\">\n",
       "      <th></th>\n",
       "      <th>MGNNdriver</th>\n",
       "      <th>a)</th>\n",
       "      <th>b)</th>\n",
       "      <th>a) $+$ b)</th>\n",
       "    </tr>\n",
       "  </thead>\n",
       "  <tbody>\n",
       "    <tr>\n",
       "      <th>MGNNdriver</th>\n",
       "      <td>1.000</td>\n",
       "      <td>0.708</td>\n",
       "      <td>0.819</td>\n",
       "      <td>0.884</td>\n",
       "    </tr>\n",
       "    <tr>\n",
       "      <th>a)</th>\n",
       "      <td>0.708</td>\n",
       "      <td>1.000</td>\n",
       "      <td>0.497</td>\n",
       "      <td>0.857</td>\n",
       "    </tr>\n",
       "    <tr>\n",
       "      <th>b)</th>\n",
       "      <td>0.819</td>\n",
       "      <td>0.497</td>\n",
       "      <td>1.000</td>\n",
       "      <td>0.873</td>\n",
       "    </tr>\n",
       "    <tr>\n",
       "      <th>a) $+$ b)</th>\n",
       "      <td>0.884</td>\n",
       "      <td>0.857</td>\n",
       "      <td>0.873</td>\n",
       "      <td>1.000</td>\n",
       "    </tr>\n",
       "  </tbody>\n",
       "</table>\n",
       "</div>"
      ],
      "text/plain": [
       "            MGNNdriver     a)     b)  a) $+$ b)\n",
       "MGNNdriver       1.000  0.708  0.819      0.884\n",
       "a)               0.708  1.000  0.497      0.857\n",
       "b)               0.819  0.497  1.000      0.873\n",
       "a) $+$ b)        0.884  0.857  0.873      1.000"
      ]
     },
     "execution_count": 7,
     "metadata": {},
     "output_type": "execute_result"
    }
   ],
   "source": [
    "df.corr().round(3)"
   ]
  },
  {
   "cell_type": "code",
   "execution_count": null,
   "metadata": {},
   "outputs": [],
   "source": []
  }
 ],
 "metadata": {
  "kernelspec": {
   "display_name": "Python 3.9.12 ('graph')",
   "language": "python",
   "name": "python3"
  },
  "language_info": {
   "codemirror_mode": {
    "name": "ipython",
    "version": 3
   },
   "file_extension": ".py",
   "mimetype": "text/x-python",
   "name": "python",
   "nbconvert_exporter": "python",
   "pygments_lexer": "ipython3",
   "version": "3.9.12"
  },
  "orig_nbformat": 4,
  "vscode": {
   "interpreter": {
    "hash": "7a9db27d091457fae2bf6a77a7eb2225e8e486f83039ed0b93e362575843034b"
   }
  }
 },
 "nbformat": 4,
 "nbformat_minor": 2
}
