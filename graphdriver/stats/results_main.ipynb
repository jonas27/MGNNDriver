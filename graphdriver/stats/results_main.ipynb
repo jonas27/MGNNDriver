{
 "cells": [
  {
   "cell_type": "code",
   "execution_count": 24,
   "metadata": {},
   "outputs": [],
   "source": [
    "from graphdriver.commons import results, setup\n",
    "from graphdriver.utils import paths\n",
    "import pandas as pd\n",
    "from collections import defaultdict"
   ]
  },
  {
   "cell_type": "code",
   "execution_count": 17,
   "metadata": {},
   "outputs": [],
   "source": [
    "def ranking_standardize_df(df, column_name: str):\n",
    "    df.loc[\"mean\"] = df.mean()\n",
    "    df = df.applymap(\"{0:.3f}\".format)\n",
    "    df[column_name] = df[\"mean\"] + \"$\\pm$\" + df[\"std\"]\n",
    "    df = df[[column_name]]\n",
    "    df.index = \"\\textbf{\" + df.index.str.upper() + \"}\"\n",
    "    return df"
   ]
  },
  {
   "cell_type": "code",
   "execution_count": 23,
   "metadata": {},
   "outputs": [],
   "source": [
    "dfs = []\n",
    "for nt in list(reversed(setup.network_types()))[1:]:\n",
    "    scores_dict = defaultdict()\n",
    "    for cancer in setup.cancer_types():\n",
    "        score, std = results.load_results(cancer, nt).score_test_pr_auc()\n",
    "        scores_dict[cancer] = {\"mean\": score, \"std\": std}\n",
    "        df = pd.DataFrame(scores_dict).T\n",
    "        df = ranking_standardize_df(df, '_'.join(nt))\n",
    "    dfs.append(df)\n",
    "\n",
    "df = pd.concat(dfs, axis=1)"
   ]
  },
  {
   "cell_type": "code",
   "execution_count": 25,
   "metadata": {},
   "outputs": [],
   "source": [
    "# add deepdriver\n",
    "df_deep = paths.pd_load(path=paths.results_deepdriver() + \"results_summary\")\n",
    "df_deep.loc[\"mean\"] = df_deep.mean()\n",
    "df_deep = df_deep.applymap(\"{0:.3f}\".format)\n",
    "df_deep[\"column_name\"] = df_deep[\"deepdriver_mean\"] + \"$\\pm$\" + df_deep[\"deepdriver_std\"]\n",
    "df[\"DeepDriver\"] = df_deep[\"column_name\"].to_list()"
   ]
  },
  {
   "cell_type": "code",
   "execution_count": 32,
   "metadata": {},
   "outputs": [],
   "source": [
    "# add emogi\n",
    "emogi = ['--' for _ in range(14)]\n",
    "emogi[1] = '0.59*'\n",
    "emogi[-3] = '0.27*'\n",
    "df[\"Emogi\"] = emogi"
   ]
  },
  {
   "cell_type": "code",
   "execution_count": 33,
   "metadata": {},
   "outputs": [
    {
     "name": "stderr",
     "output_type": "stream",
     "text": [
      "/tmp/ipykernel_17245/123936173.py:2: FutureWarning: In future versions `DataFrame.to_latex` is expected to utilise the base implementation of `Styler.to_latex` for formatting and rendering. The arguments signature may therefore change. It is recommended instead to use `DataFrame.style.to_latex` which also contains additional functionality.\n",
      "  df.to_latex(path, escape=False)\n"
     ]
    }
   ],
   "source": [
    "path = 'results_main.tex'\n",
    "df.to_latex(path, escape=False)"
   ]
  },
  {
   "cell_type": "code",
   "execution_count": null,
   "metadata": {},
   "outputs": [],
   "source": []
  }
 ],
 "metadata": {
  "kernelspec": {
   "display_name": "Python 3.9.12 ('graph')",
   "language": "python",
   "name": "python3"
  },
  "language_info": {
   "codemirror_mode": {
    "name": "ipython",
    "version": 3
   },
   "file_extension": ".py",
   "mimetype": "text/x-python",
   "name": "python",
   "nbconvert_exporter": "python",
   "pygments_lexer": "ipython3",
   "version": "3.9.12"
  },
  "orig_nbformat": 4,
  "vscode": {
   "interpreter": {
    "hash": "7a9db27d091457fae2bf6a77a7eb2225e8e486f83039ed0b93e362575843034b"
   }
  }
 },
 "nbformat": 4,
 "nbformat_minor": 2
}
