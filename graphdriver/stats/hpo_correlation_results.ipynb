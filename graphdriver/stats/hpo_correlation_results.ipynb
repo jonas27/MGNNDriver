{
 "cells": [
  {
   "cell_type": "code",
   "execution_count": 8,
   "metadata": {},
   "outputs": [],
   "source": [
    "from graphdriver.commons import setup\n",
    "import hpbandster.core.result as hpres\n",
    "from graphdriver.utils import paths\n",
    "from scipy.stats import pearsonr\n",
    "import numpy as np\n",
    "import pandas as pd\n"
   ]
  },
  {
   "cell_type": "code",
   "execution_count": 9,
   "metadata": {},
   "outputs": [],
   "source": [
    "def get_scores(res_budget):\n",
    "    val_score = []\n",
    "    test_score = []\n",
    "    for r in res_budget:\n",
    "        val = r['info']['pr_auc_mean_val']\n",
    "        test = r['info']['pr_auc_mean_test']\n",
    "        if val == 0 or test == 0:\n",
    "            continue\n",
    "        val_score.append(val)\n",
    "        test_score.append(test)\n",
    "    corr, _ = pearsonr(val_score, test_score)\n",
    "    return corr"
   ]
  },
  {
   "cell_type": "code",
   "execution_count": 10,
   "metadata": {},
   "outputs": [],
   "source": [
    "corrs_cancers = []\n",
    "nts = setup.network_types()[:3]\n",
    "nts.reverse()\n",
    "# nts = [['genes']]\n",
    "for c in setup.cancer_types():\n",
    "    corrs_nt = []\n",
    "    for nt  in nts:\n",
    "        corrs_outer = []\n",
    "        for outer_fold in range(10):\n",
    "            path = paths.results_hpo(cancer=c, network_type=nt, outer_fold=outer_fold)\n",
    "            res = hpres.logged_results_to_HBS_result(path)\n",
    "            res_budget = res.get_all_runs()\n",
    "            res_budget = [r for r in res_budget if r.budget == 4]\n",
    "            corr = get_scores(res_budget)\n",
    "            corrs_outer.append(corr)\n",
    "        corrs_nt.append(np.mean(corrs_outer))\n",
    "    corrs_cancers.append(corrs_nt)"
   ]
  },
  {
   "cell_type": "code",
   "execution_count": 11,
   "metadata": {},
   "outputs": [
    {
     "name": "stderr",
     "output_type": "stream",
     "text": [
      "/tmp/ipykernel_23102/1290622210.py:6: FutureWarning: In future versions `DataFrame.to_latex` is expected to utilise the base implementation of `Styler.to_latex` for formatting and rendering. The arguments signature may therefore change. It is recommended instead to use `DataFrame.style.to_latex` which also contains additional functionality.\n",
      "  df.to_latex(\"hpo_correlation_results.tex\", escape=False)\n"
     ]
    }
   ],
   "source": [
    "df = pd.DataFrame(corrs_cancers, columns=['MGNNdriver', 'a)', 'b)'])\n",
    "df.index = [\"\\textbf{\" + c.upper() + \"}\" for c in setup.cancer_types()]\n",
    "df.loc['\\textbf{MEAN}'] = df.mean()\n",
    "df = df.round(3)\n",
    "\n",
    "df.to_latex(\"hpo_correlation_results.tex\", escape=False)\n"
   ]
  },
  {
   "cell_type": "code",
   "execution_count": null,
   "metadata": {},
   "outputs": [],
   "source": []
  }
 ],
 "metadata": {
  "kernelspec": {
   "display_name": "Python 3.9.12 ('graph')",
   "language": "python",
   "name": "python3"
  },
  "language_info": {
   "codemirror_mode": {
    "name": "ipython",
    "version": 3
   },
   "file_extension": ".py",
   "mimetype": "text/x-python",
   "name": "python",
   "nbconvert_exporter": "python",
   "pygments_lexer": "ipython3",
   "version": "3.9.12"
  },
  "orig_nbformat": 4,
  "vscode": {
   "interpreter": {
    "hash": "7a9db27d091457fae2bf6a77a7eb2225e8e486f83039ed0b93e362575843034b"
   }
  }
 },
 "nbformat": 4,
 "nbformat_minor": 2
}
