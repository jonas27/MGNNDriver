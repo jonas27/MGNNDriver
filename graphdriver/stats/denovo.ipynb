{
 "cells": [
  {
   "cell_type": "code",
   "execution_count": 1,
   "metadata": {},
   "outputs": [
    {
     "name": "stderr",
     "output_type": "stream",
     "text": [
      "/home/joe/miniconda3/envs/graph/lib/python3.9/site-packages/tqdm/auto.py:22: TqdmWarning: IProgress not found. Please update jupyter and ipywidgets. See https://ipywidgets.readthedocs.io/en/stable/user_install.html\n",
      "  from .autonotebook import tqdm as notebook_tqdm\n"
     ]
    }
   ],
   "source": [
    "import torch\n",
    "import pandas as pd\n",
    "import requests\n",
    "from graphdriver.commons import data, results, setup\n",
    "from graphdriver.utils import paths, cons"
   ]
  },
  {
   "cell_type": "code",
   "execution_count": 2,
   "metadata": {},
   "outputs": [],
   "source": [
    "denovos = {'BLCA':\t['EEF1A1',\t'FUS',\t    'BRCA1'],\n",
    "'BRCA':\t['ATXN3',\t'CDC5L',\t'XPO1'],\n",
    "'CESC':\t['ESR1',\t'BRD4',\t'EGFR'],\n",
    "'COAD':\t['CUL1',\t'SQSTM1',\t'CIC'],\n",
    "'ESCA':\t['HTT',\t    'PTEN',\t'EP300'],\n",
    "'HNSC':\t['CSNK2A1',\t'MYC',\t    'RNF2'],\n",
    "'LIHC':\t['FN1',\t    'EGFR',\t'APP'],\n",
    "'LUAD':\t['LMNB1',\t'HSPA8',\t'AKT1'],\n",
    "'LUSC':\t['CHD3',\t'RHOA',\t'RBM39'],\n",
    "'PRAD':\t['GSK3B',\t'MED1',\t'CCT2'],\n",
    "'STAD':\t['LARP7',\t'NRAS',\t'PIK3R1'],\n",
    "'THCA':\t['HSP90AA1','HSP90AB1','XPO1'],\n",
    "'UCEC':\t['HSPB1',\t'SARNP',\t'RPL36']}\n"
   ]
  },
  {
   "cell_type": "code",
   "execution_count": 3,
   "metadata": {},
   "outputs": [
    {
     "data": {
      "text/html": [
       "<div>\n",
       "<style scoped>\n",
       "    .dataframe tbody tr th:only-of-type {\n",
       "        vertical-align: middle;\n",
       "    }\n",
       "\n",
       "    .dataframe tbody tr th {\n",
       "        vertical-align: top;\n",
       "    }\n",
       "\n",
       "    .dataframe thead th {\n",
       "        text-align: right;\n",
       "    }\n",
       "</style>\n",
       "<table border=\"1\" class=\"dataframe\">\n",
       "  <thead>\n",
       "    <tr style=\"text-align: right;\">\n",
       "      <th></th>\n",
       "      <th>0</th>\n",
       "      <th>1</th>\n",
       "      <th>2</th>\n",
       "    </tr>\n",
       "  </thead>\n",
       "  <tbody>\n",
       "    <tr>\n",
       "      <th>BLCA</th>\n",
       "      <td>EEF1A1</td>\n",
       "      <td>FUS</td>\n",
       "      <td>BRCA1</td>\n",
       "    </tr>\n",
       "    <tr>\n",
       "      <th>BRCA</th>\n",
       "      <td>ATXN3</td>\n",
       "      <td>CDC5L</td>\n",
       "      <td>XPO1</td>\n",
       "    </tr>\n",
       "    <tr>\n",
       "      <th>CESC</th>\n",
       "      <td>ESR1</td>\n",
       "      <td>BRD4</td>\n",
       "      <td>EGFR</td>\n",
       "    </tr>\n",
       "    <tr>\n",
       "      <th>COAD</th>\n",
       "      <td>CUL1</td>\n",
       "      <td>SQSTM1</td>\n",
       "      <td>CIC</td>\n",
       "    </tr>\n",
       "    <tr>\n",
       "      <th>ESCA</th>\n",
       "      <td>HTT</td>\n",
       "      <td>PTEN</td>\n",
       "      <td>EP300</td>\n",
       "    </tr>\n",
       "    <tr>\n",
       "      <th>HNSC</th>\n",
       "      <td>CSNK2A1</td>\n",
       "      <td>MYC</td>\n",
       "      <td>RNF2</td>\n",
       "    </tr>\n",
       "    <tr>\n",
       "      <th>LIHC</th>\n",
       "      <td>FN1</td>\n",
       "      <td>EGFR</td>\n",
       "      <td>APP</td>\n",
       "    </tr>\n",
       "    <tr>\n",
       "      <th>LUAD</th>\n",
       "      <td>LMNB1</td>\n",
       "      <td>HSPA8</td>\n",
       "      <td>AKT1</td>\n",
       "    </tr>\n",
       "    <tr>\n",
       "      <th>LUSC</th>\n",
       "      <td>CHD3</td>\n",
       "      <td>RHOA</td>\n",
       "      <td>RBM39</td>\n",
       "    </tr>\n",
       "    <tr>\n",
       "      <th>PRAD</th>\n",
       "      <td>GSK3B</td>\n",
       "      <td>MED1</td>\n",
       "      <td>CCT2</td>\n",
       "    </tr>\n",
       "    <tr>\n",
       "      <th>STAD</th>\n",
       "      <td>LARP7</td>\n",
       "      <td>NRAS</td>\n",
       "      <td>PIK3R1</td>\n",
       "    </tr>\n",
       "    <tr>\n",
       "      <th>THCA</th>\n",
       "      <td>HSP90AA1</td>\n",
       "      <td>HSP90AB1</td>\n",
       "      <td>XPO1</td>\n",
       "    </tr>\n",
       "    <tr>\n",
       "      <th>UCEC</th>\n",
       "      <td>HSPB1</td>\n",
       "      <td>SARNP</td>\n",
       "      <td>RPL36</td>\n",
       "    </tr>\n",
       "  </tbody>\n",
       "</table>\n",
       "</div>"
      ],
      "text/plain": [
       "             0         1       2\n",
       "BLCA    EEF1A1       FUS   BRCA1\n",
       "BRCA     ATXN3     CDC5L    XPO1\n",
       "CESC      ESR1      BRD4    EGFR\n",
       "COAD      CUL1    SQSTM1     CIC\n",
       "ESCA       HTT      PTEN   EP300\n",
       "HNSC   CSNK2A1       MYC    RNF2\n",
       "LIHC       FN1      EGFR     APP\n",
       "LUAD     LMNB1     HSPA8    AKT1\n",
       "LUSC      CHD3      RHOA   RBM39\n",
       "PRAD     GSK3B      MED1    CCT2\n",
       "STAD     LARP7      NRAS  PIK3R1\n",
       "THCA  HSP90AA1  HSP90AB1    XPO1\n",
       "UCEC     HSPB1     SARNP   RPL36"
      ]
     },
     "execution_count": 3,
     "metadata": {},
     "output_type": "execute_result"
    }
   ],
   "source": [
    "df = pd.DataFrame(denovos).T\n",
    "df"
   ]
  },
  {
   "cell_type": "code",
   "execution_count": 4,
   "metadata": {},
   "outputs": [
    {
     "name": "stderr",
     "output_type": "stream",
     "text": [
      "/tmp/ipykernel_1699/3227789459.py:1: FutureWarning: In future versions `DataFrame.to_latex` is expected to utilise the base implementation of `Styler.to_latex` for formatting and rendering. The arguments signature may therefore change. It is recommended instead to use `DataFrame.style.to_latex` which also contains additional functionality.\n",
      "  df.to_latex(\"./denovo.tex\")\n"
     ]
    }
   ],
   "source": [
    "df.to_latex(\"./denovo.tex\")"
   ]
  },
  {
   "cell_type": "code",
   "execution_count": 5,
   "metadata": {},
   "outputs": [
    {
     "name": "stdout",
     "output_type": "stream",
     "text": [
      "36\n"
     ]
    }
   ],
   "source": [
    "novos = {c: [0,1,2] for c in setup.cancer_types()}\n",
    "novos['blca'].pop(2)\n",
    "novos['brca'].pop(1)\n",
    "novos['cesc'].pop(1)\n",
    "novos['hnsc'].pop(2)\n",
    "novos['lusc'].pop(0)\n",
    "novos['stad'].pop(2)\n",
    "novos['stad'].pop(1)\n",
    "novos['thca'].pop(1)\n",
    "novos['ucec'].pop(2)\n",
    "novos['ucec'].pop(1)\n",
    "novos"
   ]
  },
  {
   "cell_type": "code",
   "execution_count": 240,
   "metadata": {},
   "outputs": [
    {
     "name": "stderr",
     "output_type": "stream",
     "text": [
      "/tmp/ipykernel_14715/991194808.py:1: FutureWarning: In future versions `DataFrame.to_latex` is expected to utilise the base implementation of `Styler.to_latex` for formatting and rendering. The arguments signature may therefore change. It is recommended instead to use `DataFrame.style.to_latex` which also contains additional functionality.\n",
      "  df.to_latex(\"denovo.tex\", escape=False)\n"
     ]
    }
   ],
   "source": []
  },
  {
   "cell_type": "code",
   "execution_count": 75,
   "metadata": {},
   "outputs": [
    {
     "data": {
      "text/html": [
       "<style type=\"text/css\">\n",
       "</style>\n",
       "<table id=\"T_dada9\">\n",
       "  <thead>\n",
       "    <tr>\n",
       "      <th class=\"blank level0\" >&nbsp;</th>\n",
       "      <th id=\"T_dada9_level0_col0\" class=\"col_heading level0 col0\" >0</th>\n",
       "      <th id=\"T_dada9_level0_col1\" class=\"col_heading level0 col1\" >1</th>\n",
       "      <th id=\"T_dada9_level0_col2\" class=\"col_heading level0 col2\" >2</th>\n",
       "    </tr>\n",
       "  </thead>\n",
       "  <tbody>\n",
       "    <tr>\n",
       "      <th id=\"T_dada9_level0_row0\" class=\"row_heading level0 row0\" >BLCA</th>\n",
       "      <td id=\"T_dada9_row0_col0\" class=\"data row0 col0\" >ESR1</td>\n",
       "      <td id=\"T_dada9_row0_col1\" class=\"data row0 col1\" >EEF1A1</td>\n",
       "      <td id=\"T_dada9_row0_col2\" class=\"data row0 col2\" >SKP1</td>\n",
       "    </tr>\n",
       "    <tr>\n",
       "      <th id=\"T_dada9_level0_row1\" class=\"row_heading level0 row1\" >BRCA</th>\n",
       "      <td id=\"T_dada9_row1_col0\" class=\"data row1 col0\" >ATXN3</td>\n",
       "      <td id=\"T_dada9_row1_col1\" class=\"data row1 col1\" >CDC5L</td>\n",
       "      <td id=\"T_dada9_row1_col2\" class=\"data row1 col2\" >XPO1</td>\n",
       "    </tr>\n",
       "    <tr>\n",
       "      <th id=\"T_dada9_level0_row2\" class=\"row_heading level0 row2\" >CESC</th>\n",
       "      <td id=\"T_dada9_row2_col0\" class=\"data row2 col0\" >TP53BP1</td>\n",
       "      <td id=\"T_dada9_row2_col1\" class=\"data row2 col1\" >CIT</td>\n",
       "      <td id=\"T_dada9_row2_col2\" class=\"data row2 col2\" >RBM39</td>\n",
       "    </tr>\n",
       "    <tr>\n",
       "      <th id=\"T_dada9_level0_row3\" class=\"row_heading level0 row3\" >COAD</th>\n",
       "      <td id=\"T_dada9_row3_col0\" class=\"data row3 col0\" >HDAC2</td>\n",
       "      <td id=\"T_dada9_row3_col1\" class=\"data row3 col1\" >CIC</td>\n",
       "      <td id=\"T_dada9_row3_col2\" class=\"data row3 col2\" >SQSTM1</td>\n",
       "    </tr>\n",
       "    <tr>\n",
       "      <th id=\"T_dada9_level0_row4\" class=\"row_heading level0 row4\" >ESCA</th>\n",
       "      <td id=\"T_dada9_row4_col0\" class=\"data row4 col0\" >EP300</td>\n",
       "      <td id=\"T_dada9_row4_col1\" class=\"data row4 col1\" >PTEN</td>\n",
       "      <td id=\"T_dada9_row4_col2\" class=\"data row4 col2\" >FN1</td>\n",
       "    </tr>\n",
       "    <tr>\n",
       "      <th id=\"T_dada9_level0_row5\" class=\"row_heading level0 row5\" >HNSC</th>\n",
       "      <td id=\"T_dada9_row5_col0\" class=\"data row5 col0\" >CSNK2A1</td>\n",
       "      <td id=\"T_dada9_row5_col1\" class=\"data row5 col1\" >MYC</td>\n",
       "      <td id=\"T_dada9_row5_col2\" class=\"data row5 col2\" >GRB2</td>\n",
       "    </tr>\n",
       "    <tr>\n",
       "      <th id=\"T_dada9_level0_row6\" class=\"row_heading level0 row6\" >LIHC</th>\n",
       "      <td id=\"T_dada9_row6_col0\" class=\"data row6 col0\" >APP</td>\n",
       "      <td id=\"T_dada9_row6_col1\" class=\"data row6 col1\" >FN1</td>\n",
       "      <td id=\"T_dada9_row6_col2\" class=\"data row6 col2\" >EGFR</td>\n",
       "    </tr>\n",
       "    <tr>\n",
       "      <th id=\"T_dada9_level0_row7\" class=\"row_heading level0 row7\" >LUAD</th>\n",
       "      <td id=\"T_dada9_row7_col0\" class=\"data row7 col0\" >RAF1</td>\n",
       "      <td id=\"T_dada9_row7_col1\" class=\"data row7 col1\" >AKT1</td>\n",
       "      <td id=\"T_dada9_row7_col2\" class=\"data row7 col2\" >HSPA8</td>\n",
       "    </tr>\n",
       "    <tr>\n",
       "      <th id=\"T_dada9_level0_row8\" class=\"row_heading level0 row8\" >LUSC</th>\n",
       "      <td id=\"T_dada9_row8_col0\" class=\"data row8 col0\" >MDM2</td>\n",
       "      <td id=\"T_dada9_row8_col1\" class=\"data row8 col1\" >ATXN3</td>\n",
       "      <td id=\"T_dada9_row8_col2\" class=\"data row8 col2\" >PIK3R1</td>\n",
       "    </tr>\n",
       "    <tr>\n",
       "      <th id=\"T_dada9_level0_row9\" class=\"row_heading level0 row9\" >PRAD</th>\n",
       "      <td id=\"T_dada9_row9_col0\" class=\"data row9 col0\" >MED1</td>\n",
       "      <td id=\"T_dada9_row9_col1\" class=\"data row9 col1\" >GSK3B</td>\n",
       "      <td id=\"T_dada9_row9_col2\" class=\"data row9 col2\" >HTT</td>\n",
       "    </tr>\n",
       "    <tr>\n",
       "      <th id=\"T_dada9_level0_row10\" class=\"row_heading level0 row10\" >STAD</th>\n",
       "      <td id=\"T_dada9_row10_col0\" class=\"data row10 col0\" >LARP7</td>\n",
       "      <td id=\"T_dada9_row10_col1\" class=\"data row10 col1\" >CFTR</td>\n",
       "      <td id=\"T_dada9_row10_col2\" class=\"data row10 col2\" >MDM2</td>\n",
       "    </tr>\n",
       "    <tr>\n",
       "      <th id=\"T_dada9_level0_row11\" class=\"row_heading level0 row11\" >THCA</th>\n",
       "      <td id=\"T_dada9_row11_col0\" class=\"data row11 col0\" >LMBR1L</td>\n",
       "      <td id=\"T_dada9_row11_col1\" class=\"data row11 col1\" >PPP2R1A</td>\n",
       "      <td id=\"T_dada9_row11_col2\" class=\"data row11 col2\" >HSP90AA1</td>\n",
       "    </tr>\n",
       "    <tr>\n",
       "      <th id=\"T_dada9_level0_row12\" class=\"row_heading level0 row12\" >UCEC</th>\n",
       "      <td id=\"T_dada9_row12_col0\" class=\"data row12 col0\" >HSPB1</td>\n",
       "      <td id=\"T_dada9_row12_col1\" class=\"data row12 col1\" >RPS19BP1</td>\n",
       "      <td id=\"T_dada9_row12_col2\" class=\"data row12 col2\" >SHANK3</td>\n",
       "    </tr>\n",
       "  </tbody>\n",
       "</table>\n"
      ],
      "text/plain": [
       "<pandas.io.formats.style.Styler at 0x7faa7d838ee0>"
      ]
     },
     "execution_count": 75,
     "metadata": {},
     "output_type": "execute_result"
    }
   ],
   "source": [
    "df.style"
   ]
  },
  {
   "cell_type": "code",
   "execution_count": 17,
   "metadata": {},
   "outputs": [
    {
     "data": {
      "text/plain": [
       "{'blca': [0, 1],\n",
       " 'brca': [0, 2],\n",
       " 'cesc': [0, 2],\n",
       " 'coad': [0, 1, 2],\n",
       " 'esca': [0, 1, 2],\n",
       " 'hnsc': [0, 1],\n",
       " 'lihc': [0, 1, 2],\n",
       " 'luad': [0, 1, 2],\n",
       " 'lusc': [1, 2],\n",
       " 'prad': [0, 1, 2],\n",
       " 'stad': [0],\n",
       " 'thca': [0, 2],\n",
       " 'ucec': [0]}"
      ]
     },
     "execution_count": 17,
     "metadata": {},
     "output_type": "execute_result"
    }
   ],
   "source": [
    "\n"
   ]
  },
  {
   "cell_type": "code",
   "execution_count": 57,
   "metadata": {},
   "outputs": [
    {
     "data": {
      "image/png": "[encoded data removed]",
      "text/plain": [
       "<Figure size 504x288 with 1 Axes>"
      ]
     },
     "metadata": {
      "needs_background": "light"
     },
     "output_type": "display_data"
    }
   ],
   "source": [
    "import matplotlib.pyplot as plt\n",
    "\n",
    "fig, ax = plt.subplots(figsize=(7,4))\n",
    "plt.rc('font', size=16)\n",
    "\n",
    "dft = df.T\n",
    "a= [0,1,2]\n",
    "for i in dft:\n",
    "    novos_in = novos[i.lower()]\n",
    "    novos_out = list(set(a) - set(novos_in))\n",
    "    # print(novos_in)\n",
    "    # print(novos_out)\n",
    "    ax.barh(i,novos_in, color='green', label='in')\n",
    "    ax.barh(i,novos_out, color='r', label='out')\n",
    "    # print(novos[i.lower()])\n",
    "    # print(dft[i])\n",
    "    "
   ]
  },
  {
   "cell_type": "code",
   "execution_count": 71,
   "metadata": {},
   "outputs": [
    {
     "name": "stdout",
     "output_type": "stream",
     "text": [
      "[ True  True False]\n",
      "[ True False  True]\n",
      "[ True False  True]\n",
      "[ True  True  True]\n",
      "[ True  True  True]\n",
      "[ True  True False]\n",
      "[ True  True  True]\n",
      "[ True  True  True]\n",
      "[False  True  True]\n",
      "[ True  True  True]\n",
      "[ True False False]\n",
      "[ True False  True]\n",
      "[ True False False]\n"
     ]
    }
   ],
   "source": [
    "# {k:len(novos[k]) for k in novos}\n",
    "from collections import defaultdict\n",
    "import numpy as np\n",
    "\n",
    "all_f = np.array([False,False,False])\n",
    "news = defaultdict()\n",
    "for k in novos:\n",
    "    a = all_f.copy()\n",
    "    a[novos[k]] = True\n",
    "    news[k] = a\n",
    "    print(a)\n",
    "# pd.DataFrame({k:all_f[novos[k]] for k in novos})"
   ]
  },
  {
   "cell_type": "code",
   "execution_count": null,
   "metadata": {},
   "outputs": [],
   "source": [
    " \n",
    "d = \"Mean\"\n",
    "mean = df.T[d].to_numpy()\n",
    "mean[-1] = 0.43\n",
    "p = ax.bar(df.T[d].index.to_numpy(),df.T[d].to_numpy(), color=(0.2, 0.4, 0.6, 0.6))\n",
    "ax.bar_label(p, df.T[d].round(3).to_list())\n",
    "# for i,v in enumerate(df.T[d].round(3)):\n",
    "#     ax.text(v, i, \" \"+str(v), color='blue', va='center', fontweight='bold')\n",
    "    # plt.text(v + 3, i + .25, str(v), color=(0.2, 0.4, 0.6, 0.9), fontweight='bold')\n",
    "# ax.set_title('Mean')\n",
    "ax.spines['top'].set_visible(False)\n",
    "ax.spines['right'].set_visible(False)\n",
    "txt=\"a) MGNNdriver using only the healthy graph. b) MGNNdriver using only\\n the diseased graph.\"\n",
    "# plt.figtext(0.5, -0.04, txt, wrap=True, horizontalalignment='center', fontsize=12)\n",
    "fig.tight_layout()\n",
    "fig.savefig('results-main-bar-charts-mean.png',bbox_inches='tight')\n",
    "plt.show()\n",
    "plt.close()"
   ]
  }
 ],
 "metadata": {
  "kernelspec": {
   "display_name": "Python 3.9.12 ('graph')",
   "language": "python",
   "name": "python3"
  },
  "language_info": {
   "codemirror_mode": {
    "name": "ipython",
    "version": 3
   },
   "file_extension": ".py",
   "mimetype": "text/x-python",
   "name": "python",
   "nbconvert_exporter": "python",
   "pygments_lexer": "ipython3",
   "version": "3.9.12"
  },
  "orig_nbformat": 4,
  "vscode": {
   "interpreter": {
    "hash": "7a9db27d091457fae2bf6a77a7eb2225e8e486f83039ed0b93e362575843034b"
   }
  }
 },
 "nbformat": 4,
 "nbformat_minor": 2
}
